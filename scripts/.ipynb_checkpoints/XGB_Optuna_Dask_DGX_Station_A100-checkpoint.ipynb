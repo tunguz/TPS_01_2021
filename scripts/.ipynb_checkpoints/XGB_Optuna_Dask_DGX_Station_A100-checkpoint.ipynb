{
 "cells": [
  {
   "cell_type": "code",
   "execution_count": 1,
   "id": "bea6a364-0ccd-47de-aace-fe9b041f354a",
   "metadata": {},
   "outputs": [],
   "source": [
    "import os\n",
    "#os.environ[\"CUDA_DEVICE_ORDER\"]=\"PCI_BUS_ID\"\n",
    "#os.environ[\"CUDA_VISIBLE_DEVICES\"]=\"0, 1, 2, 4\""
   ]
  },
  {
   "cell_type": "code",
   "execution_count": 14,
   "id": "7cffff01-4cfc-4bd1-b7e6-69998a663f2e",
   "metadata": {},
   "outputs": [],
   "source": [
    "from dask.distributed import Client\n",
    "from dask_cuda import LocalCUDACluster\n",
    "from dask import dataframe as dd\n",
    "import pandas as pd\n",
    "import xgboost as xgb\n",
    "from sklearn.model_selection import KFold, train_test_split\n",
    "from sklearn.metrics import mean_squared_error\n",
    "from sklearn.preprocessing import StandardScaler\n",
    "from sklearn.preprocessing import LabelEncoder\n",
    "import optuna\n",
    "import gc"
   ]
  },
  {
   "cell_type": "code",
   "execution_count": 3,
   "id": "6d7dd8e0-1153-4f17-8b9b-5e2f5671bfa3",
   "metadata": {},
   "outputs": [
    {
     "data": {
      "text/plain": [
       "'1.6.0rc1'"
      ]
     },
     "execution_count": 3,
     "metadata": {},
     "output_type": "execute_result"
    }
   ],
   "source": [
    "xgb.__version__"
   ]
  },
  {
   "cell_type": "code",
   "execution_count": 4,
   "id": "7bc76047-df8f-4f57-8ab0-4c68ea6edf56",
   "metadata": {},
   "outputs": [
    {
     "name": "stdout",
     "output_type": "stream",
     "text": [
      "Wed Apr 20 14:32:03 2022       \n",
      "+-----------------------------------------------------------------------------+\n",
      "| NVIDIA-SMI 495.29.05    Driver Version: 495.29.05    CUDA Version: 11.5     |\n",
      "|-------------------------------+----------------------+----------------------+\n",
      "| GPU  Name        Persistence-M| Bus-Id        Disp.A | Volatile Uncorr. ECC |\n",
      "| Fan  Temp  Perf  Pwr:Usage/Cap|         Memory-Usage | GPU-Util  Compute M. |\n",
      "|                               |                      |               MIG M. |\n",
      "|===============================+======================+======================|\n",
      "|   0  NVIDIA A100-SXM...  On   | 00000000:01:00.0 Off |                    0 |\n",
      "| N/A   30C    P0    58W / 275W |     14MiB / 81251MiB |      0%      Default |\n",
      "|                               |                      |             Disabled |\n",
      "+-------------------------------+----------------------+----------------------+\n",
      "|   1  NVIDIA A100-SXM...  On   | 00000000:47:00.0 Off |                    0 |\n",
      "| N/A   30C    P0    59W / 275W |     14MiB / 81251MiB |      0%      Default |\n",
      "|                               |                      |             Disabled |\n",
      "+-------------------------------+----------------------+----------------------+\n",
      "|   2  NVIDIA A100-SXM...  On   | 00000000:81:00.0 Off |                    0 |\n",
      "| N/A   29C    P0    58W / 275W |     14MiB / 81251MiB |      0%      Default |\n",
      "|                               |                      |             Disabled |\n",
      "+-------------------------------+----------------------+----------------------+\n",
      "|   3  NVIDIA DGX Display  On   | 00000000:C1:00.0 Off |                  N/A |\n",
      "| 34%   32C    P8    N/A /  50W |     15MiB /  3911MiB |      0%      Default |\n",
      "|                               |                      |                  N/A |\n",
      "+-------------------------------+----------------------+----------------------+\n",
      "|   4  NVIDIA A100-SXM...  On   | 00000000:C2:00.0 Off |                    0 |\n",
      "| N/A   29C    P0    57W / 275W |     14MiB / 81251MiB |      0%      Default |\n",
      "|                               |                      |             Disabled |\n",
      "+-------------------------------+----------------------+----------------------+\n",
      "                                                                               \n",
      "+-----------------------------------------------------------------------------+\n",
      "| Processes:                                                                  |\n",
      "|  GPU   GI   CI        PID   Type   Process name                  GPU Memory |\n",
      "|        ID   ID                                                   Usage      |\n",
      "|=============================================================================|\n",
      "|    0   N/A  N/A      5094      G   /usr/lib/xorg/Xorg                  4MiB |\n",
      "|    0   N/A  N/A     96044      G   /usr/lib/xorg/Xorg                  4MiB |\n",
      "|    0   N/A  N/A     96525      G   /usr/lib/xorg/Xorg                  4MiB |\n",
      "|    1   N/A  N/A      5094      G   /usr/lib/xorg/Xorg                  4MiB |\n",
      "|    1   N/A  N/A     96044      G   /usr/lib/xorg/Xorg                  4MiB |\n",
      "|    1   N/A  N/A     96525      G   /usr/lib/xorg/Xorg                  4MiB |\n",
      "|    2   N/A  N/A      5094      G   /usr/lib/xorg/Xorg                  4MiB |\n",
      "|    2   N/A  N/A     96044      G   /usr/lib/xorg/Xorg                  4MiB |\n",
      "|    2   N/A  N/A     96525      G   /usr/lib/xorg/Xorg                  4MiB |\n",
      "|    3   N/A  N/A      5094      G   /usr/lib/xorg/Xorg                  4MiB |\n",
      "|    3   N/A  N/A     96044      G   /usr/lib/xorg/Xorg                  4MiB |\n",
      "|    3   N/A  N/A     96525      G   /usr/lib/xorg/Xorg                  4MiB |\n",
      "|    4   N/A  N/A      5094      G   /usr/lib/xorg/Xorg                  4MiB |\n",
      "|    4   N/A  N/A     96044      G   /usr/lib/xorg/Xorg                  4MiB |\n",
      "|    4   N/A  N/A     96525      G   /usr/lib/xorg/Xorg                  4MiB |\n",
      "+-----------------------------------------------------------------------------+\n"
     ]
    }
   ],
   "source": [
    "!nvidia-smi"
   ]
  },
  {
   "cell_type": "code",
   "execution_count": 5,
   "id": "7b7566b1-ca6d-499a-9739-67eb96148ae3",
   "metadata": {},
   "outputs": [
    {
     "name": "stdout",
     "output_type": "stream",
     "text": [
      "GPU 0: NVIDIA A100-SXM-80GB (UUID: GPU-a19c00c3-2832-fe38-1c43-c18db3e909da)\n",
      "GPU 1: NVIDIA A100-SXM-80GB (UUID: GPU-58b97c92-e879-49d3-85b5-1d9615f10873)\n",
      "GPU 2: NVIDIA A100-SXM-80GB (UUID: GPU-d21cfed4-2e1a-f313-839c-ea008aca027a)\n",
      "GPU 3: NVIDIA DGX Display (UUID: GPU-bda05ff2-94b1-c885-24f7-586c8f86b408)\n",
      "GPU 4: NVIDIA A100-SXM-80GB (UUID: GPU-e3b349d7-ac6c-77ab-3564-ed9d05d50bac)\n"
     ]
    }
   ],
   "source": [
    "!nvidia-smi -L"
   ]
  },
  {
   "cell_type": "code",
   "execution_count": 6,
   "id": "f43c165a-6eba-42d9-84b0-f639b9a23164",
   "metadata": {},
   "outputs": [],
   "source": [
    "train_x = dd.read_csv('../../TPS_2021/input/tabular-playground-series-jan-2021/xgtrain.csv')\n",
    "test_x = dd.read_csv('../../TPS_2021/input/tabular-playground-series-jan-2021/xgval.csv')"
   ]
  },
  {
   "cell_type": "code",
   "execution_count": 7,
   "id": "721a1046-d025-448e-9b68-99c6783ba99b",
   "metadata": {},
   "outputs": [],
   "source": [
    "train_y = train_x['target']\n",
    "train_x = train_x[train_x.columns.difference(['target'])]\n",
    "\n",
    "test_y = test_x['target']\n",
    "test_x = test_x[test_x.columns.difference(['target'])]"
   ]
  },
  {
   "cell_type": "code",
   "execution_count": 8,
   "id": "cc9f58df-d8fd-431c-9921-5443b867214f",
   "metadata": {},
   "outputs": [
    {
     "name": "stderr",
     "output_type": "stream",
     "text": [
      "2022-04-20 14:33:07,156 - distributed.preloading - INFO - Import preload module: dask_cuda.initialize\n",
      "2022-04-20 14:33:07,187 - distributed.preloading - INFO - Import preload module: dask_cuda.initialize\n",
      "2022-04-20 14:33:07,208 - distributed.preloading - INFO - Import preload module: dask_cuda.initialize\n",
      "2022-04-20 14:33:07,212 - distributed.preloading - INFO - Import preload module: dask_cuda.initialize\n"
     ]
    }
   ],
   "source": [
    "cluster = LocalCUDACluster(CUDA_VISIBLE_DEVICES=[\"GPU-a19c00c3-2832-fe38-1c43-c18db3e909da\",\n",
    "                                                 \"GPU-58b97c92-e879-49d3-85b5-1d9615f10873\",\n",
    "                                                 \"GPU-d21cfed4-2e1a-f313-839c-ea008aca027a\",\n",
    "                                                 \"GPU-e3b349d7-ac6c-77ab-3564-ed9d05d50bac\"])\n",
    "client = Client(cluster)"
   ]
  },
  {
   "cell_type": "code",
   "execution_count": 9,
   "id": "ae0a4851-c7dc-4ba4-adf1-9faac4102a5f",
   "metadata": {},
   "outputs": [
    {
     "name": "stdout",
     "output_type": "stream",
     "text": [
      "Wed Apr 20 14:33:22 2022       \n",
      "+-----------------------------------------------------------------------------+\n",
      "| NVIDIA-SMI 495.29.05    Driver Version: 495.29.05    CUDA Version: 11.5     |\n",
      "|-------------------------------+----------------------+----------------------+\n",
      "| GPU  Name        Persistence-M| Bus-Id        Disp.A | Volatile Uncorr. ECC |\n",
      "| Fan  Temp  Perf  Pwr:Usage/Cap|         Memory-Usage | GPU-Util  Compute M. |\n",
      "|                               |                      |               MIG M. |\n",
      "|===============================+======================+======================|\n",
      "|   0  NVIDIA A100-SXM...  On   | 00000000:01:00.0 Off |                    0 |\n",
      "| N/A   30C    P0    61W / 275W |    428MiB / 81251MiB |      0%      Default |\n",
      "|                               |                      |             Disabled |\n",
      "+-------------------------------+----------------------+----------------------+\n",
      "|   1  NVIDIA A100-SXM...  On   | 00000000:47:00.0 Off |                    0 |\n",
      "| N/A   30C    P0    62W / 275W |    428MiB / 81251MiB |      0%      Default |\n",
      "|                               |                      |             Disabled |\n",
      "+-------------------------------+----------------------+----------------------+\n",
      "|   2  NVIDIA A100-SXM...  On   | 00000000:81:00.0 Off |                    0 |\n",
      "| N/A   30C    P0    61W / 275W |    428MiB / 81251MiB |      0%      Default |\n",
      "|                               |                      |             Disabled |\n",
      "+-------------------------------+----------------------+----------------------+\n",
      "|   3  NVIDIA DGX Display  On   | 00000000:C1:00.0 Off |                  N/A |\n",
      "| 34%   32C    P8    N/A /  50W |     15MiB /  3911MiB |      0%      Default |\n",
      "|                               |                      |                  N/A |\n",
      "+-------------------------------+----------------------+----------------------+\n",
      "|   4  NVIDIA A100-SXM...  On   | 00000000:C2:00.0 Off |                    0 |\n",
      "| N/A   30C    P0    60W / 275W |    428MiB / 81251MiB |      0%      Default |\n",
      "|                               |                      |             Disabled |\n",
      "+-------------------------------+----------------------+----------------------+\n",
      "                                                                               \n",
      "+-----------------------------------------------------------------------------+\n",
      "| Processes:                                                                  |\n",
      "|  GPU   GI   CI        PID   Type   Process name                  GPU Memory |\n",
      "|        ID   ID                                                   Usage      |\n",
      "|=============================================================================|\n",
      "|    0   N/A  N/A      5094      G   /usr/lib/xorg/Xorg                  4MiB |\n",
      "|    0   N/A  N/A     96044      G   /usr/lib/xorg/Xorg                  4MiB |\n",
      "|    0   N/A  N/A     96525      G   /usr/lib/xorg/Xorg                  4MiB |\n",
      "|    0   N/A  N/A   2609355      C   /usr/bin/python3                  411MiB |\n",
      "|    1   N/A  N/A      5094      G   /usr/lib/xorg/Xorg                  4MiB |\n",
      "|    1   N/A  N/A     96044      G   /usr/lib/xorg/Xorg                  4MiB |\n",
      "|    1   N/A  N/A     96525      G   /usr/lib/xorg/Xorg                  4MiB |\n",
      "|    1   N/A  N/A   2609354      C   /usr/bin/python3                  411MiB |\n",
      "|    2   N/A  N/A      5094      G   /usr/lib/xorg/Xorg                  4MiB |\n",
      "|    2   N/A  N/A     96044      G   /usr/lib/xorg/Xorg                  4MiB |\n",
      "|    2   N/A  N/A     96525      G   /usr/lib/xorg/Xorg                  4MiB |\n",
      "|    2   N/A  N/A   2609358      C   /usr/bin/python3                  411MiB |\n",
      "|    3   N/A  N/A      5094      G   /usr/lib/xorg/Xorg                  4MiB |\n",
      "|    3   N/A  N/A     96044      G   /usr/lib/xorg/Xorg                  4MiB |\n",
      "|    3   N/A  N/A     96525      G   /usr/lib/xorg/Xorg                  4MiB |\n",
      "|    4   N/A  N/A      5094      G   /usr/lib/xorg/Xorg                  4MiB |\n",
      "|    4   N/A  N/A     96044      G   /usr/lib/xorg/Xorg                  4MiB |\n",
      "|    4   N/A  N/A     96525      G   /usr/lib/xorg/Xorg                  4MiB |\n",
      "|    4   N/A  N/A   2609350      C   /usr/bin/python3                  411MiB |\n",
      "+-----------------------------------------------------------------------------+\n"
     ]
    }
   ],
   "source": [
    "!nvidia-smi"
   ]
  },
  {
   "cell_type": "code",
   "execution_count": 10,
   "id": "6197191f-406f-4ed8-bffc-527f6ab537f8",
   "metadata": {},
   "outputs": [
    {
     "data": {
      "text/plain": [
       "environ{'SHELL': '/bin/bash',\n",
       "        'CONDA_EXE': '/home/tunguz/anaconda3/bin/conda',\n",
       "        '_CE_M': '',\n",
       "        'PWD': '/home/tunguz',\n",
       "        'LOGNAME': 'tunguz',\n",
       "        'XDG_SESSION_TYPE': 'tty',\n",
       "        'MOTD_SHOWN': 'pam',\n",
       "        'HOME': '/home/tunguz',\n",
       "        'LANG': 'en_US.UTF-8',\n",
       "        'LS_COLORS': 'rs=0:di=01;34:ln=01;36:mh=00:pi=40;33:so=01;35:do=01;35:bd=40;33;01:cd=40;33;01:or=40;31;01:mi=00:su=37;41:sg=30;43:ca=30;41:tw=30;42:ow=34;42:st=37;44:ex=01;32:*.tar=01;31:*.tgz=01;31:*.arc=01;31:*.arj=01;31:*.taz=01;31:*.lha=01;31:*.lz4=01;31:*.lzh=01;31:*.lzma=01;31:*.tlz=01;31:*.txz=01;31:*.tzo=01;31:*.t7z=01;31:*.zip=01;31:*.z=01;31:*.dz=01;31:*.gz=01;31:*.lrz=01;31:*.lz=01;31:*.lzo=01;31:*.xz=01;31:*.zst=01;31:*.tzst=01;31:*.bz2=01;31:*.bz=01;31:*.tbz=01;31:*.tbz2=01;31:*.tz=01;31:*.deb=01;31:*.rpm=01;31:*.jar=01;31:*.war=01;31:*.ear=01;31:*.sar=01;31:*.rar=01;31:*.alz=01;31:*.ace=01;31:*.zoo=01;31:*.cpio=01;31:*.7z=01;31:*.rz=01;31:*.cab=01;31:*.wim=01;31:*.swm=01;31:*.dwm=01;31:*.esd=01;31:*.jpg=01;35:*.jpeg=01;35:*.mjpg=01;35:*.mjpeg=01;35:*.gif=01;35:*.bmp=01;35:*.pbm=01;35:*.pgm=01;35:*.ppm=01;35:*.tga=01;35:*.xbm=01;35:*.xpm=01;35:*.tif=01;35:*.tiff=01;35:*.png=01;35:*.svg=01;35:*.svgz=01;35:*.mng=01;35:*.pcx=01;35:*.mov=01;35:*.mpg=01;35:*.mpeg=01;35:*.m2v=01;35:*.mkv=01;35:*.webm=01;35:*.ogm=01;35:*.mp4=01;35:*.m4v=01;35:*.mp4v=01;35:*.vob=01;35:*.qt=01;35:*.nuv=01;35:*.wmv=01;35:*.asf=01;35:*.rm=01;35:*.rmvb=01;35:*.flc=01;35:*.avi=01;35:*.fli=01;35:*.flv=01;35:*.gl=01;35:*.dl=01;35:*.xcf=01;35:*.xwd=01;35:*.yuv=01;35:*.cgm=01;35:*.emf=01;35:*.ogv=01;35:*.ogx=01;35:*.aac=00;36:*.au=00;36:*.flac=00;36:*.m4a=00;36:*.mid=00;36:*.midi=00;36:*.mka=00;36:*.mp3=00;36:*.mpc=00;36:*.ogg=00;36:*.ra=00;36:*.wav=00;36:*.oga=00;36:*.opus=00;36:*.spx=00;36:*.xspf=00;36:',\n",
       "        'MIG_PARTED_CONFIG_FILE': '/etc/nvidia-mig-manager/config.yaml',\n",
       "        'SSH_CONNECTION': '192.168.1.118 52540 192.168.1.101 22',\n",
       "        'LESSCLOSE': '/usr/bin/lesspipe %s %s',\n",
       "        'XDG_SESSION_CLASS': 'user',\n",
       "        'TERM': 'xterm-color',\n",
       "        'MIG_PARTED_HOOKS_FILE': '/etc/nvidia-mig-manager/hooks.yaml',\n",
       "        '_CE_CONDA': '',\n",
       "        'LESSOPEN': '| /usr/bin/lesspipe %s',\n",
       "        'USER': 'tunguz',\n",
       "        'CONDA_SHLVL': '0',\n",
       "        'SHLVL': '1',\n",
       "        'XDG_SESSION_ID': '5',\n",
       "        'CONDA_PYTHON_EXE': '/home/tunguz/anaconda3/bin/python',\n",
       "        'XDG_RUNTIME_DIR': '/run/user/1001',\n",
       "        'SSH_CLIENT': '192.168.1.118 52540 22',\n",
       "        'XDG_DATA_DIRS': '/usr/local/share:/usr/share:/var/lib/snapd/desktop',\n",
       "        'PATH': '/home/tunguz/.local/bin:/home/tunguz/anaconda3/condabin:/usr/local/cuda/bin:/opt/bin/:/usr/local/cuda/bin:/usr/local/sbin:/usr/local/bin:/usr/sbin:/usr/bin:/sbin:/bin:/usr/games:/usr/local/games:/snap/bin',\n",
       "        'DBUS_SESSION_BUS_ADDRESS': 'unix:path=/run/user/1001/bus',\n",
       "        'SSH_TTY': '/dev/pts/0',\n",
       "        '_': '/home/tunguz/.local/bin/jupyter',\n",
       "        'PYDEVD_USE_FRAME_EVAL': 'NO',\n",
       "        'JPY_PARENT_PID': '16413',\n",
       "        'CLICOLOR': '1',\n",
       "        'PAGER': 'cat',\n",
       "        'GIT_PAGER': 'cat',\n",
       "        'MPLBACKEND': 'module://matplotlib_inline.backend_inline',\n",
       "        'KMP_DUPLICATE_LIB_OK': 'True',\n",
       "        'KMP_INIT_AT_FORK': 'FALSE',\n",
       "        'RAPIDS_NO_INITIALIZE': 'True',\n",
       "        'DASK_PARENT': '2608080'}"
      ]
     },
     "execution_count": 10,
     "metadata": {},
     "output_type": "execute_result"
    }
   ],
   "source": [
    "os.environ"
   ]
  },
  {
   "cell_type": "code",
   "execution_count": 11,
   "id": "a49e0834-1ea0-484e-9ad7-35990602957d",
   "metadata": {},
   "outputs": [],
   "source": [
    "dtrain = xgb.dask.DaskDMatrix(client, train_x, train_y)"
   ]
  },
  {
   "cell_type": "code",
   "execution_count": 12,
   "id": "53d2bfbb-0082-4f5e-9ed6-def7c7b8a96b",
   "metadata": {},
   "outputs": [],
   "source": [
    "dtest = xgb.dask.DaskDMatrix(client, test_x, test_y)"
   ]
  },
  {
   "cell_type": "code",
   "execution_count": 24,
   "id": "5fc04eef-16ea-4035-ac53-ffa215f87031",
   "metadata": {},
   "outputs": [],
   "source": [
    "num_round = 1000"
   ]
  },
  {
   "cell_type": "code",
   "execution_count": 25,
   "id": "22bb55e2-dba9-42d1-b734-56dbaa487eab",
   "metadata": {},
   "outputs": [],
   "source": [
    "def objective(trial):\n",
    "        \n",
    "    params = {\n",
    "        'objective': trial.suggest_categorical('objective',['reg:squarederror']), \n",
    "        'tree_method': trial.suggest_categorical('tree_method',['gpu_hist']),  # 'gpu_hist','hist'\n",
    "        'lambda': trial.suggest_loguniform('lambda',1e-3,10.0),\n",
    "        'alpha': trial.suggest_loguniform('alpha',1e-3,10.0),\n",
    "        'colsample_bytree': trial.suggest_uniform('colsample_bytree', 0.3,1.0),\n",
    "        'subsample': trial.suggest_uniform('subsample', 0.4, 1.0),\n",
    "        'learning_rate': trial.suggest_loguniform('learning_rate', 0.001,0.1),\n",
    "        #'n_estimators': trial.suggest_categorical('n_estimators', [1000]),\n",
    "        'max_depth': trial.suggest_categorical('max_depth', [3,5,7,9,11,13,15,17,20]),\n",
    "        #'random_state': trial.suggest_categorical('random_state', [24,48,2020]),\n",
    "        'min_child_weight': trial.suggest_int('min_child_weight', 1,300),\n",
    "        'eval_metric': trial.suggest_categorical('eval_metric',['rmse']),\n",
    "\n",
    "    }\n",
    "\n",
    "    output = xgb.dask.train(client, params, dtrain, num_round)\n",
    "    \n",
    "    booster = output['booster']  # booster is the trained model\n",
    "    booster.set_param({'predictor': 'gpu_predictor'})\n",
    "\n",
    "    predictions = xgb.dask.predict(client, booster, dtest)\n",
    "    \n",
    "    predictions = predictions.compute()\n",
    "\n",
    "    rmse = mean_squared_error(test_y, predictions, squared=False)\n",
    "    \n",
    "    return rmse"
   ]
  },
  {
   "cell_type": "code",
   "execution_count": 26,
   "id": "7aa8098e-2ad0-477b-b1ca-9612cea5aada",
   "metadata": {},
   "outputs": [
    {
     "name": "stderr",
     "output_type": "stream",
     "text": [
      "\u001b[32m[I 2022-04-20 14:44:53,728]\u001b[0m A new study created in memory with name: no-name-9472e3fe-c5d1-490f-ba64-4e7bcd3cbecb\u001b[0m\n"
     ]
    }
   ],
   "source": [
    "study = optuna.create_study(direction='minimize')"
   ]
  },
  {
   "cell_type": "code",
   "execution_count": 27,
   "id": "5c911269-6804-42ce-8cdf-85447036c852",
   "metadata": {},
   "outputs": [
    {
     "name": "stderr",
     "output_type": "stream",
     "text": [
      "[14:44:58] task [xgboost.dask]:tcp://127.0.0.1:42459 got new rank 0\n",
      "\u001b[32m[I 2022-04-20 14:45:01,523]\u001b[0m Trial 0 finished with value: 0.7008778996547216 and parameters: {'objective': 'reg:squarederror', 'tree_method': 'gpu_hist', 'lambda': 0.009212363176261756, 'alpha': 0.030263859578512832, 'colsample_bytree': 0.6747755304602424, 'subsample': 0.4374995246713245, 'learning_rate': 0.012377765629469835, 'max_depth': 5, 'min_child_weight': 12, 'eval_metric': 'rmse'}. Best is trial 0 with value: 0.7008778996547216.\u001b[0m\n",
      "[14:45:01] task [xgboost.dask]:tcp://127.0.0.1:42459 got new rank 0\n",
      "\u001b[32m[I 2022-04-20 14:46:53,293]\u001b[0m Trial 1 finished with value: 0.7034867780789218 and parameters: {'objective': 'reg:squarederror', 'tree_method': 'gpu_hist', 'lambda': 0.17714677828564068, 'alpha': 0.0020791433289435368, 'colsample_bytree': 0.7207499613583424, 'subsample': 0.8492891543998393, 'learning_rate': 0.004287019723521191, 'max_depth': 20, 'min_child_weight': 118, 'eval_metric': 'rmse'}. Best is trial 0 with value: 0.7008778996547216.\u001b[0m\n",
      "[14:46:53] task [xgboost.dask]:tcp://127.0.0.1:42459 got new rank 0\n",
      "\u001b[32m[I 2022-04-20 14:47:27,829]\u001b[0m Trial 2 finished with value: 0.6953509849812477 and parameters: {'objective': 'reg:squarederror', 'tree_method': 'gpu_hist', 'lambda': 0.12850118057869744, 'alpha': 0.013749097136246162, 'colsample_bytree': 0.9485684627623574, 'subsample': 0.8418505453940708, 'learning_rate': 0.009123105815006178, 'max_depth': 13, 'min_child_weight': 192, 'eval_metric': 'rmse'}. Best is trial 2 with value: 0.6953509849812477.\u001b[0m\n",
      "[14:47:27] task [xgboost.dask]:tcp://127.0.0.1:42459 got new rank 0\n",
      "\u001b[32m[I 2022-04-20 14:48:07,365]\u001b[0m Trial 3 finished with value: 0.6950212261958806 and parameters: {'objective': 'reg:squarederror', 'tree_method': 'gpu_hist', 'lambda': 4.132748450739932, 'alpha': 1.3016768327615882, 'colsample_bytree': 0.3474171900468255, 'subsample': 0.7247010448940234, 'learning_rate': 0.01247496543367489, 'max_depth': 17, 'min_child_weight': 200, 'eval_metric': 'rmse'}. Best is trial 3 with value: 0.6950212261958806.\u001b[0m\n",
      "[14:48:07] task [xgboost.dask]:tcp://127.0.0.1:42459 got new rank 0\n",
      "\u001b[32m[I 2022-04-20 14:48:27,250]\u001b[0m Trial 4 finished with value: 0.7227866638885582 and parameters: {'objective': 'reg:squarederror', 'tree_method': 'gpu_hist', 'lambda': 0.10771973500499812, 'alpha': 0.023898940494338817, 'colsample_bytree': 0.44126309384354656, 'subsample': 0.6974023333411002, 'learning_rate': 0.0037523519070876855, 'max_depth': 9, 'min_child_weight': 80, 'eval_metric': 'rmse'}. Best is trial 3 with value: 0.6950212261958806.\u001b[0m\n",
      "[14:48:27] task [xgboost.dask]:tcp://127.0.0.1:42459 got new rank 0\n",
      "\u001b[32m[I 2022-04-20 14:49:53,930]\u001b[0m Trial 5 finished with value: 0.7207756049738137 and parameters: {'objective': 'reg:squarederror', 'tree_method': 'gpu_hist', 'lambda': 0.06712345626342861, 'alpha': 3.8335877643858955, 'colsample_bytree': 0.8393953170278357, 'subsample': 0.8006618200899861, 'learning_rate': 0.09184923709494107, 'max_depth': 15, 'min_child_weight': 67, 'eval_metric': 'rmse'}. Best is trial 3 with value: 0.6950212261958806.\u001b[0m\n",
      "[14:49:53] task [xgboost.dask]:tcp://127.0.0.1:42459 got new rank 0\n",
      "\u001b[32m[I 2022-04-20 14:49:56,825]\u001b[0m Trial 6 finished with value: 0.6984079868728887 and parameters: {'objective': 'reg:squarederror', 'tree_method': 'gpu_hist', 'lambda': 0.03328457706212908, 'alpha': 1.7778821260452857, 'colsample_bytree': 0.3328079497713074, 'subsample': 0.8642557203321732, 'learning_rate': 0.027786363608177874, 'max_depth': 5, 'min_child_weight': 238, 'eval_metric': 'rmse'}. Best is trial 3 with value: 0.6950212261958806.\u001b[0m\n",
      "[14:49:56] task [xgboost.dask]:tcp://127.0.0.1:42459 got new rank 0\n",
      "\u001b[32m[I 2022-04-20 14:50:24,825]\u001b[0m Trial 7 finished with value: 0.6951956869459527 and parameters: {'objective': 'reg:squarederror', 'tree_method': 'gpu_hist', 'lambda': 0.005384981475997615, 'alpha': 0.7520606796147308, 'colsample_bytree': 0.766734054081808, 'subsample': 0.8174695966135489, 'learning_rate': 0.008946533223070355, 'max_depth': 13, 'min_child_weight': 241, 'eval_metric': 'rmse'}. Best is trial 3 with value: 0.6950212261958806.\u001b[0m\n",
      "[14:50:24] task [xgboost.dask]:tcp://127.0.0.1:42459 got new rank 0\n",
      "\u001b[32m[I 2022-04-20 14:51:23,258]\u001b[0m Trial 8 finished with value: 0.6945406922096201 and parameters: {'objective': 'reg:squarederror', 'tree_method': 'gpu_hist', 'lambda': 0.0013958778610780223, 'alpha': 0.026608434846573967, 'colsample_bytree': 0.5779712030637565, 'subsample': 0.7229968923317844, 'learning_rate': 0.008793295459829676, 'max_depth': 20, 'min_child_weight': 210, 'eval_metric': 'rmse'}. Best is trial 8 with value: 0.6945406922096201.\u001b[0m\n",
      "[14:51:23] task [xgboost.dask]:tcp://127.0.0.1:42459 got new rank 0\n",
      "\u001b[32m[I 2022-04-20 14:51:50,802]\u001b[0m Trial 9 finished with value: 0.6953400903024343 and parameters: {'objective': 'reg:squarederror', 'tree_method': 'gpu_hist', 'lambda': 0.04436217828311922, 'alpha': 0.4593343674398937, 'colsample_bytree': 0.9154565976184756, 'subsample': 0.44753905890555207, 'learning_rate': 0.01941714780891255, 'max_depth': 17, 'min_child_weight': 246, 'eval_metric': 'rmse'}. Best is trial 8 with value: 0.6945406922096201.\u001b[0m\n",
      "[14:51:50] task [xgboost.dask]:tcp://127.0.0.1:42459 got new rank 0\n",
      "\u001b[32m[I 2022-04-20 14:52:34,574]\u001b[0m Trial 10 finished with value: 1.2864741170772067 and parameters: {'objective': 'reg:squarederror', 'tree_method': 'gpu_hist', 'lambda': 0.0012813957437669856, 'alpha': 0.0021628570188521766, 'colsample_bytree': 0.5481771722106284, 'subsample': 0.9813054361490805, 'learning_rate': 0.0019291074776277954, 'max_depth': 11, 'min_child_weight': 161, 'eval_metric': 'rmse'}. Best is trial 8 with value: 0.6945406922096201.\u001b[0m\n",
      "[14:52:34] task [xgboost.dask]:tcp://127.0.0.1:42459 got new rank 0\n",
      "\u001b[32m[I 2022-04-20 14:53:00,009]\u001b[0m Trial 11 finished with value: 0.6992671266399672 and parameters: {'objective': 'reg:squarederror', 'tree_method': 'gpu_hist', 'lambda': 1.6474198079198596, 'alpha': 0.14941677057471023, 'colsample_bytree': 0.5370742711716434, 'subsample': 0.6090706993653814, 'learning_rate': 0.047177506509987054, 'max_depth': 17, 'min_child_weight': 292, 'eval_metric': 'rmse'}. Best is trial 8 with value: 0.6945406922096201.\u001b[0m\n",
      "[14:53:00] task [xgboost.dask]:tcp://127.0.0.1:42459 got new rank 0\n",
      "\u001b[32m[I 2022-04-20 14:53:01,323]\u001b[0m Trial 12 finished with value: 2.670207362640431 and parameters: {'objective': 'reg:squarederror', 'tree_method': 'gpu_hist', 'lambda': 3.2787855978610403, 'alpha': 9.56600292605144, 'colsample_bytree': 0.30531679736441936, 'subsample': 0.6187530530245229, 'learning_rate': 0.0010592235683288232, 'max_depth': 3, 'min_child_weight': 189, 'eval_metric': 'rmse'}. Best is trial 8 with value: 0.6945406922096201.\u001b[0m\n",
      "[14:53:01] task [xgboost.dask]:tcp://127.0.0.1:42459 got new rank 0\n",
      "\u001b[32m[I 2022-04-20 14:53:53,187]\u001b[0m Trial 13 finished with value: 0.6984956172112745 and parameters: {'objective': 'reg:squarederror', 'tree_method': 'gpu_hist', 'lambda': 0.6473866697603472, 'alpha': 0.1205260660572189, 'colsample_bytree': 0.5460710788061476, 'subsample': 0.7095588425966299, 'learning_rate': 0.0050788197365596935, 'max_depth': 20, 'min_child_weight': 200, 'eval_metric': 'rmse'}. Best is trial 8 with value: 0.6945406922096201.\u001b[0m\n",
      "[14:53:53] task [xgboost.dask]:tcp://127.0.0.1:42459 got new rank 0\n",
      "\u001b[32m[I 2022-04-20 14:53:59,279]\u001b[0m Trial 14 finished with value: 0.6962527518036178 and parameters: {'objective': 'reg:squarederror', 'tree_method': 'gpu_hist', 'lambda': 7.090272448637816, 'alpha': 0.009464104682814351, 'colsample_bytree': 0.43625018640387725, 'subsample': 0.5947735467897981, 'learning_rate': 0.021480841613659752, 'max_depth': 7, 'min_child_weight': 141, 'eval_metric': 'rmse'}. Best is trial 8 with value: 0.6945406922096201.\u001b[0m\n",
      "[14:53:59] task [xgboost.dask]:tcp://127.0.0.1:42459 got new rank 0\n",
      "\u001b[32m[I 2022-04-20 14:54:37,738]\u001b[0m Trial 15 finished with value: 0.6956911636852116 and parameters: {'objective': 'reg:squarederror', 'tree_method': 'gpu_hist', 'lambda': 0.7226168247635394, 'alpha': 0.40879571477332666, 'colsample_bytree': 0.4516780501726513, 'subsample': 0.7027509528648995, 'learning_rate': 0.0077291444882382565, 'max_depth': 20, 'min_child_weight': 289, 'eval_metric': 'rmse'}. Best is trial 8 with value: 0.6945406922096201.\u001b[0m\n",
      "[14:54:37] task [xgboost.dask]:tcp://127.0.0.1:42459 got new rank 0\n",
      "\u001b[32m[I 2022-04-20 14:55:08,399]\u001b[0m Trial 16 finished with value: 0.7005466699739086 and parameters: {'objective': 'reg:squarederror', 'tree_method': 'gpu_hist', 'lambda': 0.003262858138279634, 'alpha': 0.06264754730505227, 'colsample_bytree': 0.6015601757607345, 'subsample': 0.5445250080299541, 'learning_rate': 0.04335223921206335, 'max_depth': 17, 'min_child_weight': 214, 'eval_metric': 'rmse'}. Best is trial 8 with value: 0.6945406922096201.\u001b[0m\n",
      "[14:55:08] task [xgboost.dask]:tcp://127.0.0.1:42459 got new rank 0\n",
      "\u001b[32m[I 2022-04-20 14:55:14,092]\u001b[0m Trial 17 finished with value: 0.8693839820438629 and parameters: {'objective': 'reg:squarederror', 'tree_method': 'gpu_hist', 'lambda': 9.975605470099397, 'alpha': 0.0041907747411086965, 'colsample_bytree': 0.38382804344667115, 'subsample': 0.7614021381783674, 'learning_rate': 0.002705260850170521, 'max_depth': 11, 'min_child_weight': 163, 'eval_metric': 'rmse'}. Best is trial 8 with value: 0.6945406922096201.\u001b[0m\n",
      "[14:55:14] task [xgboost.dask]:tcp://127.0.0.1:42459 got new rank 0\n",
      "\u001b[32m[I 2022-04-20 14:55:21,195]\u001b[0m Trial 18 finished with value: 0.696997481546897 and parameters: {'objective': 'reg:squarederror', 'tree_method': 'gpu_hist', 'lambda': 0.017049887997831487, 'alpha': 1.2936360508933553, 'colsample_bytree': 0.6299790595663913, 'subsample': 0.9229344200590455, 'learning_rate': 0.015484438662265718, 'max_depth': 7, 'min_child_weight': 112, 'eval_metric': 'rmse'}. Best is trial 8 with value: 0.6945406922096201.\u001b[0m\n",
      "[14:55:21] task [xgboost.dask]:tcp://127.0.0.1:42459 got new rank 0\n",
      "\u001b[32m[I 2022-04-20 14:55:22,715]\u001b[0m Trial 19 finished with value: 0.7122810825968686 and parameters: {'objective': 'reg:squarederror', 'tree_method': 'gpu_hist', 'lambda': 0.3218150541918289, 'alpha': 0.22636369895280076, 'colsample_bytree': 0.7733234958276411, 'subsample': 0.5271975810751617, 'learning_rate': 0.006023277544901003, 'max_depth': 3, 'min_child_weight': 266, 'eval_metric': 'rmse'}. Best is trial 8 with value: 0.6945406922096201.\u001b[0m\n"
     ]
    },
    {
     "name": "stdout",
     "output_type": "stream",
     "text": [
      "CPU times: user 24 s, sys: 6.32 s, total: 30.3 s\n",
      "Wall time: 10min 24s\n"
     ]
    }
   ],
   "source": [
    "%%time\n",
    "study.optimize(objective, n_trials=20)"
   ]
  },
  {
   "cell_type": "code",
   "execution_count": 29,
   "id": "a996841c-13cc-4b9b-b000-f697bf787a16",
   "metadata": {},
   "outputs": [
    {
     "data": {
      "text/plain": [
       "{'objective': 'reg:squarederror',\n",
       " 'tree_method': 'gpu_hist',\n",
       " 'lambda': 0.0013958778610780223,\n",
       " 'alpha': 0.026608434846573967,\n",
       " 'colsample_bytree': 0.5779712030637565,\n",
       " 'subsample': 0.7229968923317844,\n",
       " 'learning_rate': 0.008793295459829676,\n",
       " 'max_depth': 20,\n",
       " 'min_child_weight': 210,\n",
       " 'eval_metric': 'rmse'}"
      ]
     },
     "execution_count": 29,
     "metadata": {},
     "output_type": "execute_result"
    }
   ],
   "source": [
    "study.best_trial.params"
   ]
  },
  {
   "cell_type": "code",
   "execution_count": 30,
   "id": "e8c97821-964e-449a-bb02-c6cceee1bc1d",
   "metadata": {},
   "outputs": [
    {
     "data": {
      "text/plain": [
       "' Best is trial 8 with value: 0.6945406922096201.'"
      ]
     },
     "execution_count": 30,
     "metadata": {},
     "output_type": "execute_result"
    },
    {
     "name": "stderr",
     "output_type": "stream",
     "text": [
      "/home/tunguz/.local/lib/python3.8/site-packages/dask_cuda/initialize.py:57: UserWarning: Worker with process ID 2609358 should have a CUDA context assigned to device GPU-d21cfed4-2e1a-f313-839c-ea008aca027a, but instead the CUDA context is on device 2. This is often the result of a CUDA-enabled library calling a CUDA runtime function before Dask-CUDA can spawn worker processes. Please make sure any such function calls don't happen at import time or in the global scope of a program.\n",
      "  warnings.warn(\n",
      "/home/tunguz/.local/lib/python3.8/site-packages/dask_cuda/initialize.py:57: UserWarning: Worker with process ID 2609354 should have a CUDA context assigned to device GPU-58b97c92-e879-49d3-85b5-1d9615f10873, but instead the CUDA context is on device 1. This is often the result of a CUDA-enabled library calling a CUDA runtime function before Dask-CUDA can spawn worker processes. Please make sure any such function calls don't happen at import time or in the global scope of a program.\n",
      "  warnings.warn(\n",
      "/home/tunguz/.local/lib/python3.8/site-packages/dask_cuda/initialize.py:57: UserWarning: Worker with process ID 2609355 should have a CUDA context assigned to device GPU-a19c00c3-2832-fe38-1c43-c18db3e909da, but instead the CUDA context is on device 0. This is often the result of a CUDA-enabled library calling a CUDA runtime function before Dask-CUDA can spawn worker processes. Please make sure any such function calls don't happen at import time or in the global scope of a program.\n",
      "  warnings.warn(\n",
      "/home/tunguz/.local/lib/python3.8/site-packages/dask_cuda/initialize.py:57: UserWarning: Worker with process ID 2609350 should have a CUDA context assigned to device GPU-e3b349d7-ac6c-77ab-3564-ed9d05d50bac, but instead the CUDA context is on device 4. This is often the result of a CUDA-enabled library calling a CUDA runtime function before Dask-CUDA can spawn worker processes. Please make sure any such function calls don't happen at import time or in the global scope of a program.\n",
      "  warnings.warn(\n"
     ]
    }
   ],
   "source": [
    "\" Best is trial 8 with value: 0.6945406922096201.\""
   ]
  },
  {
   "cell_type": "code",
   "execution_count": null,
   "id": "9f6087e3-3515-4553-b23b-c85160a712ad",
   "metadata": {},
   "outputs": [],
   "source": []
  }
 ],
 "metadata": {
  "kernelspec": {
   "display_name": "Python 3 (ipykernel)",
   "language": "python",
   "name": "python3"
  },
  "language_info": {
   "codemirror_mode": {
    "name": "ipython",
    "version": 3
   },
   "file_extension": ".py",
   "mimetype": "text/x-python",
   "name": "python",
   "nbconvert_exporter": "python",
   "pygments_lexer": "ipython3",
   "version": "3.8.10"
  }
 },
 "nbformat": 4,
 "nbformat_minor": 5
}
