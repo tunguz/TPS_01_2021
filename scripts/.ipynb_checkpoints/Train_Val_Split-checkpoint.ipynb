{
 "cells": [
  {
   "cell_type": "code",
   "execution_count": 1,
   "id": "a91351ea-d460-493e-b2ef-53752c4430d8",
   "metadata": {},
   "outputs": [],
   "source": [
    "import numpy as np\n",
    "import pandas as pd\n",
    "import gc\n",
    "import time\n",
    "\n",
    "from sklearn.preprocessing import RobustScaler\n",
    "from sklearn.model_selection import train_test_split\n",
    "\n",
    "from tqdm import tqdm\n",
    "\n",
    "import warnings\n",
    "from time import time"
   ]
  },
  {
   "cell_type": "code",
   "execution_count": 2,
   "id": "7350a5b9-27a2-47c0-adba-b141022a80c1",
   "metadata": {},
   "outputs": [
    {
     "name": "stdout",
     "output_type": "stream",
     "text": [
      "CPU times: user 749 ms, sys: 94.9 ms, total: 844 ms\n",
      "Wall time: 997 ms\n"
     ]
    }
   ],
   "source": [
    "%%time\n",
    "train = pd.read_csv('../../TPS_2021/input/tabular-playground-series-jan-2021/train.csv')\n",
    "test = pd.read_csv('../../TPS_2021/input/tabular-playground-series-jan-2021/test.csv')"
   ]
  },
  {
   "cell_type": "code",
   "execution_count": 3,
   "id": "a5604fc5-efee-4cd8-8d79-7ddbc2264806",
   "metadata": {},
   "outputs": [
    {
     "data": {
      "text/html": [
       "<div>\n",
       "<style scoped>\n",
       "    .dataframe tbody tr th:only-of-type {\n",
       "        vertical-align: middle;\n",
       "    }\n",
       "\n",
       "    .dataframe tbody tr th {\n",
       "        vertical-align: top;\n",
       "    }\n",
       "\n",
       "    .dataframe thead th {\n",
       "        text-align: right;\n",
       "    }\n",
       "</style>\n",
       "<table border=\"1\" class=\"dataframe\">\n",
       "  <thead>\n",
       "    <tr style=\"text-align: right;\">\n",
       "      <th></th>\n",
       "      <th>id</th>\n",
       "      <th>cont1</th>\n",
       "      <th>cont2</th>\n",
       "      <th>cont3</th>\n",
       "      <th>cont4</th>\n",
       "      <th>cont5</th>\n",
       "      <th>cont6</th>\n",
       "      <th>cont7</th>\n",
       "      <th>cont8</th>\n",
       "      <th>cont9</th>\n",
       "      <th>cont10</th>\n",
       "      <th>cont11</th>\n",
       "      <th>cont12</th>\n",
       "      <th>cont13</th>\n",
       "      <th>cont14</th>\n",
       "      <th>target</th>\n",
       "    </tr>\n",
       "  </thead>\n",
       "  <tbody>\n",
       "    <tr>\n",
       "      <th>0</th>\n",
       "      <td>1</td>\n",
       "      <td>0.670390</td>\n",
       "      <td>0.811300</td>\n",
       "      <td>0.643968</td>\n",
       "      <td>0.291791</td>\n",
       "      <td>0.284117</td>\n",
       "      <td>0.855953</td>\n",
       "      <td>0.890700</td>\n",
       "      <td>0.285542</td>\n",
       "      <td>0.558245</td>\n",
       "      <td>0.779418</td>\n",
       "      <td>0.921832</td>\n",
       "      <td>0.866772</td>\n",
       "      <td>0.878733</td>\n",
       "      <td>0.305411</td>\n",
       "      <td>7.243043</td>\n",
       "    </tr>\n",
       "    <tr>\n",
       "      <th>1</th>\n",
       "      <td>3</td>\n",
       "      <td>0.388053</td>\n",
       "      <td>0.621104</td>\n",
       "      <td>0.686102</td>\n",
       "      <td>0.501149</td>\n",
       "      <td>0.643790</td>\n",
       "      <td>0.449805</td>\n",
       "      <td>0.510824</td>\n",
       "      <td>0.580748</td>\n",
       "      <td>0.418335</td>\n",
       "      <td>0.432632</td>\n",
       "      <td>0.439872</td>\n",
       "      <td>0.434971</td>\n",
       "      <td>0.369957</td>\n",
       "      <td>0.369484</td>\n",
       "      <td>8.203331</td>\n",
       "    </tr>\n",
       "    <tr>\n",
       "      <th>2</th>\n",
       "      <td>4</td>\n",
       "      <td>0.834950</td>\n",
       "      <td>0.227436</td>\n",
       "      <td>0.301584</td>\n",
       "      <td>0.293408</td>\n",
       "      <td>0.606839</td>\n",
       "      <td>0.829175</td>\n",
       "      <td>0.506143</td>\n",
       "      <td>0.558771</td>\n",
       "      <td>0.587603</td>\n",
       "      <td>0.823312</td>\n",
       "      <td>0.567007</td>\n",
       "      <td>0.677708</td>\n",
       "      <td>0.882938</td>\n",
       "      <td>0.303047</td>\n",
       "      <td>7.776091</td>\n",
       "    </tr>\n",
       "    <tr>\n",
       "      <th>3</th>\n",
       "      <td>5</td>\n",
       "      <td>0.820708</td>\n",
       "      <td>0.160155</td>\n",
       "      <td>0.546887</td>\n",
       "      <td>0.726104</td>\n",
       "      <td>0.282444</td>\n",
       "      <td>0.785108</td>\n",
       "      <td>0.752758</td>\n",
       "      <td>0.823267</td>\n",
       "      <td>0.574466</td>\n",
       "      <td>0.580843</td>\n",
       "      <td>0.769594</td>\n",
       "      <td>0.818143</td>\n",
       "      <td>0.914281</td>\n",
       "      <td>0.279528</td>\n",
       "      <td>6.957716</td>\n",
       "    </tr>\n",
       "    <tr>\n",
       "      <th>4</th>\n",
       "      <td>8</td>\n",
       "      <td>0.935278</td>\n",
       "      <td>0.421235</td>\n",
       "      <td>0.303801</td>\n",
       "      <td>0.880214</td>\n",
       "      <td>0.665610</td>\n",
       "      <td>0.830131</td>\n",
       "      <td>0.487113</td>\n",
       "      <td>0.604157</td>\n",
       "      <td>0.874658</td>\n",
       "      <td>0.863427</td>\n",
       "      <td>0.983575</td>\n",
       "      <td>0.900464</td>\n",
       "      <td>0.935918</td>\n",
       "      <td>0.435772</td>\n",
       "      <td>7.951046</td>\n",
       "    </tr>\n",
       "  </tbody>\n",
       "</table>\n",
       "</div>"
      ],
      "text/plain": [
       "   id     cont1     cont2     cont3     cont4     cont5     cont6     cont7  \\\n",
       "0   1  0.670390  0.811300  0.643968  0.291791  0.284117  0.855953  0.890700   \n",
       "1   3  0.388053  0.621104  0.686102  0.501149  0.643790  0.449805  0.510824   \n",
       "2   4  0.834950  0.227436  0.301584  0.293408  0.606839  0.829175  0.506143   \n",
       "3   5  0.820708  0.160155  0.546887  0.726104  0.282444  0.785108  0.752758   \n",
       "4   8  0.935278  0.421235  0.303801  0.880214  0.665610  0.830131  0.487113   \n",
       "\n",
       "      cont8     cont9    cont10    cont11    cont12    cont13    cont14  \\\n",
       "0  0.285542  0.558245  0.779418  0.921832  0.866772  0.878733  0.305411   \n",
       "1  0.580748  0.418335  0.432632  0.439872  0.434971  0.369957  0.369484   \n",
       "2  0.558771  0.587603  0.823312  0.567007  0.677708  0.882938  0.303047   \n",
       "3  0.823267  0.574466  0.580843  0.769594  0.818143  0.914281  0.279528   \n",
       "4  0.604157  0.874658  0.863427  0.983575  0.900464  0.935918  0.435772   \n",
       "\n",
       "     target  \n",
       "0  7.243043  \n",
       "1  8.203331  \n",
       "2  7.776091  \n",
       "3  6.957716  \n",
       "4  7.951046  "
      ]
     },
     "execution_count": 3,
     "metadata": {},
     "output_type": "execute_result"
    }
   ],
   "source": [
    "train.head()"
   ]
  },
  {
   "cell_type": "code",
   "execution_count": 4,
   "id": "95a5dda9-1e03-4a55-96e5-6d2b274931bd",
   "metadata": {},
   "outputs": [],
   "source": [
    "features = train.columns[1:-1]"
   ]
  },
  {
   "cell_type": "code",
   "execution_count": 5,
   "id": "0141eb57-d603-4c18-acb0-eab0844c6017",
   "metadata": {},
   "outputs": [
    {
     "data": {
      "text/plain": [
       "Index(['cont1', 'cont2', 'cont3', 'cont4', 'cont5', 'cont6', 'cont7', 'cont8',\n",
       "       'cont9', 'cont10', 'cont11', 'cont12', 'cont13', 'cont14'],\n",
       "      dtype='object')"
      ]
     },
     "execution_count": 5,
     "metadata": {},
     "output_type": "execute_result"
    }
   ],
   "source": [
    "features"
   ]
  },
  {
   "cell_type": "code",
   "execution_count": 7,
   "id": "ba7a224d-a539-4b81-b5bc-ada02dc352e5",
   "metadata": {},
   "outputs": [],
   "source": [
    "target = train[['target']].values\n",
    "train.drop(['target', 'id'], axis=1, inplace=True)\n",
    "test.drop(['id', ], axis=1, inplace=True)"
   ]
  },
  {
   "cell_type": "code",
   "execution_count": 8,
   "id": "b21cd841-d2d8-476a-aa28-461800a18142",
   "metadata": {},
   "outputs": [
    {
     "name": "stdout",
     "output_type": "stream",
     "text": [
      "CPU times: user 441 ms, sys: 12.2 ms, total: 453 ms\n",
      "Wall time: 452 ms\n"
     ]
    },
    {
     "data": {
      "text/plain": [
       "0"
      ]
     },
     "execution_count": 8,
     "metadata": {},
     "output_type": "execute_result"
    }
   ],
   "source": [
    "%%time\n",
    "train_test = pd.concat([train, test], axis =0)\n",
    "RS = RobustScaler()\n",
    "RS.fit(train_test)\n",
    "del train_test\n",
    "gc.collect()\n",
    "gc.collect()\n",
    "train[features] = RS.transform(train)\n",
    "test[features] = RS.transform(test)\n",
    "del RS\n",
    "gc.collect()\n",
    "gc.collect()"
   ]
  },
  {
   "cell_type": "code",
   "execution_count": 9,
   "id": "239f58c6-d158-486e-8dd1-b6358f70dc77",
   "metadata": {},
   "outputs": [
    {
     "data": {
      "text/html": [
       "<div>\n",
       "<style scoped>\n",
       "    .dataframe tbody tr th:only-of-type {\n",
       "        vertical-align: middle;\n",
       "    }\n",
       "\n",
       "    .dataframe tbody tr th {\n",
       "        vertical-align: top;\n",
       "    }\n",
       "\n",
       "    .dataframe thead th {\n",
       "        text-align: right;\n",
       "    }\n",
       "</style>\n",
       "<table border=\"1\" class=\"dataframe\">\n",
       "  <thead>\n",
       "    <tr style=\"text-align: right;\">\n",
       "      <th></th>\n",
       "      <th>cont1</th>\n",
       "      <th>cont2</th>\n",
       "      <th>cont3</th>\n",
       "      <th>cont4</th>\n",
       "      <th>cont5</th>\n",
       "      <th>cont6</th>\n",
       "      <th>cont7</th>\n",
       "      <th>cont8</th>\n",
       "      <th>cont9</th>\n",
       "      <th>cont10</th>\n",
       "      <th>cont11</th>\n",
       "      <th>cont12</th>\n",
       "      <th>cont13</th>\n",
       "      <th>cont14</th>\n",
       "    </tr>\n",
       "  </thead>\n",
       "  <tbody>\n",
       "    <tr>\n",
       "      <th>0</th>\n",
       "      <td>0.619576</td>\n",
       "      <td>0.629516</td>\n",
       "      <td>0.304043</td>\n",
       "      <td>-0.420714</td>\n",
       "      <td>-0.433759</td>\n",
       "      <td>1.139138</td>\n",
       "      <td>1.810939</td>\n",
       "      <td>-0.576590</td>\n",
       "      <td>0.578667</td>\n",
       "      <td>0.987360</td>\n",
       "      <td>1.270064</td>\n",
       "      <td>0.991039</td>\n",
       "      <td>0.931378</td>\n",
       "      <td>-0.312017</td>\n",
       "    </tr>\n",
       "    <tr>\n",
       "      <th>1</th>\n",
       "      <td>-0.319577</td>\n",
       "      <td>0.165642</td>\n",
       "      <td>0.442507</td>\n",
       "      <td>0.041016</td>\n",
       "      <td>0.496517</td>\n",
       "      <td>-0.062699</td>\n",
       "      <td>0.188664</td>\n",
       "      <td>0.282973</td>\n",
       "      <td>0.005998</td>\n",
       "      <td>-0.080497</td>\n",
       "      <td>-0.005542</td>\n",
       "      <td>-0.133218</td>\n",
       "      <td>-0.285365</td>\n",
       "      <td>-0.153483</td>\n",
       "    </tr>\n",
       "    <tr>\n",
       "      <th>2</th>\n",
       "      <td>1.166962</td>\n",
       "      <td>-0.794489</td>\n",
       "      <td>-0.821131</td>\n",
       "      <td>-0.417147</td>\n",
       "      <td>0.400947</td>\n",
       "      <td>1.059899</td>\n",
       "      <td>0.168677</td>\n",
       "      <td>0.218981</td>\n",
       "      <td>0.698831</td>\n",
       "      <td>1.122520</td>\n",
       "      <td>0.330946</td>\n",
       "      <td>0.498783</td>\n",
       "      <td>0.941435</td>\n",
       "      <td>-0.317867</td>\n",
       "    </tr>\n",
       "    <tr>\n",
       "      <th>3</th>\n",
       "      <td>1.119587</td>\n",
       "      <td>-0.958584</td>\n",
       "      <td>-0.014993</td>\n",
       "      <td>0.537145</td>\n",
       "      <td>-0.438088</td>\n",
       "      <td>0.929499</td>\n",
       "      <td>1.221853</td>\n",
       "      <td>0.989122</td>\n",
       "      <td>0.645061</td>\n",
       "      <td>0.375887</td>\n",
       "      <td>0.867135</td>\n",
       "      <td>0.864426</td>\n",
       "      <td>1.016393</td>\n",
       "      <td>-0.376061</td>\n",
       "    </tr>\n",
       "    <tr>\n",
       "      <th>4</th>\n",
       "      <td>1.500687</td>\n",
       "      <td>-0.321826</td>\n",
       "      <td>-0.813845</td>\n",
       "      <td>0.877028</td>\n",
       "      <td>0.552955</td>\n",
       "      <td>1.062726</td>\n",
       "      <td>0.087406</td>\n",
       "      <td>0.351134</td>\n",
       "      <td>1.873782</td>\n",
       "      <td>1.246045</td>\n",
       "      <td>1.433479</td>\n",
       "      <td>1.078761</td>\n",
       "      <td>1.068136</td>\n",
       "      <td>0.010533</td>\n",
       "    </tr>\n",
       "  </tbody>\n",
       "</table>\n",
       "</div>"
      ],
      "text/plain": [
       "      cont1     cont2     cont3     cont4     cont5     cont6     cont7  \\\n",
       "0  0.619576  0.629516  0.304043 -0.420714 -0.433759  1.139138  1.810939   \n",
       "1 -0.319577  0.165642  0.442507  0.041016  0.496517 -0.062699  0.188664   \n",
       "2  1.166962 -0.794489 -0.821131 -0.417147  0.400947  1.059899  0.168677   \n",
       "3  1.119587 -0.958584 -0.014993  0.537145 -0.438088  0.929499  1.221853   \n",
       "4  1.500687 -0.321826 -0.813845  0.877028  0.552955  1.062726  0.087406   \n",
       "\n",
       "      cont8     cont9    cont10    cont11    cont12    cont13    cont14  \n",
       "0 -0.576590  0.578667  0.987360  1.270064  0.991039  0.931378 -0.312017  \n",
       "1  0.282973  0.005998 -0.080497 -0.005542 -0.133218 -0.285365 -0.153483  \n",
       "2  0.218981  0.698831  1.122520  0.330946  0.498783  0.941435 -0.317867  \n",
       "3  0.989122  0.645061  0.375887  0.867135  0.864426  1.016393 -0.376061  \n",
       "4  0.351134  1.873782  1.246045  1.433479  1.078761  1.068136  0.010533  "
      ]
     },
     "execution_count": 9,
     "metadata": {},
     "output_type": "execute_result"
    }
   ],
   "source": [
    "train.head()"
   ]
  },
  {
   "cell_type": "code",
   "execution_count": 10,
   "id": "bcfd62c9-4e7e-40a7-9f34-61a29acd8194",
   "metadata": {},
   "outputs": [],
   "source": [
    "xgtrain, xgval, y_train, y_val = train_test_split(train, target, test_size=0.2, random_state=42)"
   ]
  },
  {
   "cell_type": "code",
   "execution_count": 11,
   "id": "333b73b3-b94e-44ce-9ad5-464101a5084c",
   "metadata": {},
   "outputs": [],
   "source": [
    "xgtrain['target'] = y_train\n",
    "xgval['target'] = y_val"
   ]
  },
  {
   "cell_type": "code",
   "execution_count": 12,
   "id": "8100035a-46c4-4244-9b32-ffac98b50095",
   "metadata": {},
   "outputs": [],
   "source": [
    "xgtrain.to_csv('../../TPS_2021/input/tabular-playground-series-jan-2021/xgtrain.csv', index=False)\n",
    "xgval.to_csv('../../TPS_2021/input/tabular-playground-series-jan-2021/xgval.csv', index=False)"
   ]
  },
  {
   "cell_type": "code",
   "execution_count": null,
   "id": "9db5fcf6-5274-4aab-a223-bd22928fcf4b",
   "metadata": {},
   "outputs": [],
   "source": []
  }
 ],
 "metadata": {
  "kernelspec": {
   "display_name": "Python 3 (ipykernel)",
   "language": "python",
   "name": "python3"
  },
  "language_info": {
   "codemirror_mode": {
    "name": "ipython",
    "version": 3
   },
   "file_extension": ".py",
   "mimetype": "text/x-python",
   "name": "python",
   "nbconvert_exporter": "python",
   "pygments_lexer": "ipython3",
   "version": "3.8.10"
  }
 },
 "nbformat": 4,
 "nbformat_minor": 5
}
